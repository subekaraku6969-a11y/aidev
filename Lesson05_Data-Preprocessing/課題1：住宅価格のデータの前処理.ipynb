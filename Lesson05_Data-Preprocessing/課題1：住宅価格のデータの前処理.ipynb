{
  "cells": [
    {
      "cell_type": "markdown",
      "metadata": {
        "id": "5XrEOJUt0Ltk"
      },
      "source": [
        "# 課題1：住宅価格のデータの前処理\n",
        "\n",
        "ここではデータの前処理について理解いただくための課題を用意しました。\n",
        "\n",
        "ここでは住宅価格のデータセットを利用します。今回の住宅価格のデータは、Colabのランタイムに標準でインストールされている「カリフォルニア州の住宅価格」ではなく、以下のページで配布されている「アイオワ州の住宅価格」のデータを利用します。\n",
        "\n",
        "このデータは、Dean De Cockという統計学者の論文が出典元とされていて、以下のサイトでCSVファイルの配布と各列の説明がされています。\n",
        "\n",
        "[Housing prices in Ames, Iowa](https://www.openintro.org/data/index.php?data=ames)\n",
        "\n",
        "各セルに入っているコメントの下に、実行するコードを記入してください。また、作業内容の一部にPandasの公式ドキュメントへのリンクを追記していますので、わからない部分がありましたら参照してください。\n",
        "\n",
        "**注意点：**\n",
        "\n",
        "- 列名にドット（`.`）が入っているとPandasの処理中にエラーが発生するため、元データの列名から `.` を削除しています\n",
        "- PID列のみ、元データから削除しています"
      ]
    },
    {
      "cell_type": "markdown",
      "metadata": {
        "id": "ypCHEX2Q0Ltn"
      },
      "source": [
        "## 1. 必要なライブラリの読み込み"
      ]
    },
    {
      "cell_type": "code",
      "execution_count": 1,
      "metadata": {
        "id": "Uoi9iKLL0Ltn"
      },
      "outputs": [],
      "source": [
        "# 必要なライブラリの読み込み（変更しないでください）\n",
        "import matplotlib\n",
        "import matplotlib.pyplot as plt\n",
        "import numpy as np\n",
        "import pandas as pd"
      ]
    },
    {
      "cell_type": "markdown",
      "metadata": {
        "id": "HbXgJsJC0Ltp"
      },
      "source": [
        "## 2. データの読み込み\n",
        "\n",
        "CSVファイル *iowa_ames_housing_price.csv* を読み込み、内容を確認します。"
      ]
    },
    {
      "cell_type": "code",
      "execution_count": 2,
      "metadata": {
        "id": "mmf5J5OM2LJy"
      },
      "outputs": [],
      "source": [
        "# データを変数datasetに読み込む\n",
        "dataset = pd.read_csv(\"iowa_ames_housing_price.csv\")"
      ]
    },
    {
      "cell_type": "code",
      "execution_count": 3,
      "metadata": {
        "id": "hFfPzXBK0Ltp"
      },
      "outputs": [
        {
          "name": "stdout",
          "output_type": "stream",
          "text": [
            "   Order  area   price  MSSubClass MSZoning  LotFrontage  LotArea Street  \\\n",
            "0      1  1710  208500          60       RL         65.0     8450   Pave   \n",
            "1      2  1262  181500          20       RL         80.0     9600   Pave   \n",
            "2      3  1786  223500          60       RL         68.0    11250   Pave   \n",
            "3      4  1717  140000          70       RL         60.0     9550   Pave   \n",
            "4      5  2198  250000          60       RL         84.0    14260   Pave   \n",
            "\n",
            "  Alley LotShape  ... ScreenPorch PoolArea PoolQC Fence MiscFeature MiscVal  \\\n",
            "0   NaN      Reg  ...           0        0    NaN   NaN         NaN       0   \n",
            "1   NaN      Reg  ...           0        0    NaN   NaN         NaN       0   \n",
            "2   NaN      IR1  ...           0        0    NaN   NaN         NaN       0   \n",
            "3   NaN      IR1  ...           0        0    NaN   NaN         NaN       0   \n",
            "4   NaN      IR1  ...           0        0    NaN   NaN         NaN       0   \n",
            "\n",
            "  MoSold YrSold SaleType  SaleCondition  \n",
            "0      2   2008       WD         Normal  \n",
            "1      5   2007       WD         Normal  \n",
            "2      9   2008       WD         Normal  \n",
            "3      2   2006       WD        Abnorml  \n",
            "4     12   2008       WD         Normal  \n",
            "\n",
            "[5 rows x 81 columns]\n"
          ]
        }
      ],
      "source": [
        "# データの最初の5行を表示\n",
        "print(dataset.head())"
      ]
    },
    {
      "cell_type": "markdown",
      "metadata": {
        "id": "ChiL-Cvx0Ltq"
      },
      "source": [
        "全データの行数と列数を取得します。DataFrameの`shape` プロパティを参照します。\n",
        "\n",
        "参照：https://pandas.pydata.org/docs/reference/api/pandas.DataFrame.shape.html"
      ]
    },
    {
      "cell_type": "code",
      "execution_count": 4,
      "metadata": {
        "id": "h52P9Nem0Ltq"
      },
      "outputs": [
        {
          "name": "stdout",
          "output_type": "stream",
          "text": [
            "(1460, 81)\n"
          ]
        }
      ],
      "source": [
        "# データの行数、列数を表示\n",
        "print(dataset.shape)\n"
      ]
    },
    {
      "cell_type": "markdown",
      "metadata": {
        "id": "0YfIRt0y0Ltr"
      },
      "source": [
        "## 3. 要約統計量を出力する\n",
        "\n",
        "データ数、平均や中央値、標準偏差などの統計量を確認することで、データへの理解を深めます。\n",
        "\n",
        "DataFrameの `describe()` を使うことで、様々な統計量の情報を要約として表示されます。\n",
        "\n",
        "参考：https://pandas.pydata.org/docs/reference/api/pandas.DataFrame.describe.html"
      ]
    },
    {
      "cell_type": "code",
      "execution_count": 5,
      "metadata": {
        "id": "-psXciDb0Ltr"
      },
      "outputs": [
        {
          "name": "stdout",
          "output_type": "stream",
          "text": [
            "             Order         area          price   MSSubClass  LotFrontage  \\\n",
            "count  1460.000000  1460.000000    1460.000000  1460.000000  1201.000000   \n",
            "mean    730.500000  1515.463699  180921.195890    56.897260    70.049958   \n",
            "std     421.610009   525.480383   79442.502883    42.300571    24.284752   \n",
            "min       1.000000   334.000000   34900.000000    20.000000    21.000000   \n",
            "25%     365.750000  1129.500000  129975.000000    20.000000    59.000000   \n",
            "50%     730.500000  1464.000000  163000.000000    50.000000    69.000000   \n",
            "75%    1095.250000  1776.750000  214000.000000    70.000000    80.000000   \n",
            "max    1460.000000  5642.000000  755000.000000   190.000000   313.000000   \n",
            "\n",
            "             LotArea  OverallQual  OverallCond    YearBuilt  YearRemodAdd  \\\n",
            "count    1460.000000  1460.000000  1460.000000  1460.000000   1460.000000   \n",
            "mean    10516.828082     6.099315     5.575342  1971.267808   1984.865753   \n",
            "std      9981.264932     1.382997     1.112799    30.202904     20.645407   \n",
            "min      1300.000000     1.000000     1.000000  1872.000000   1950.000000   \n",
            "25%      7553.500000     5.000000     5.000000  1954.000000   1967.000000   \n",
            "50%      9478.500000     6.000000     5.000000  1973.000000   1994.000000   \n",
            "75%     11601.500000     7.000000     6.000000  2000.000000   2004.000000   \n",
            "max    215245.000000    10.000000     9.000000  2010.000000   2010.000000   \n",
            "\n",
            "       ...   GarageArea   WoodDeckSF  OpenPorchSF  EnclosedPorch   X3SsnPorch  \\\n",
            "count  ...  1460.000000  1460.000000  1460.000000    1460.000000  1460.000000   \n",
            "mean   ...   472.980137    94.244521    46.660274      21.954110     3.409589   \n",
            "std    ...   213.804841   125.338794    66.256028      61.119149    29.317331   \n",
            "min    ...     0.000000     0.000000     0.000000       0.000000     0.000000   \n",
            "25%    ...   334.500000     0.000000     0.000000       0.000000     0.000000   \n",
            "50%    ...   480.000000     0.000000    25.000000       0.000000     0.000000   \n",
            "75%    ...   576.000000   168.000000    68.000000       0.000000     0.000000   \n",
            "max    ...  1418.000000   857.000000   547.000000     552.000000   508.000000   \n",
            "\n",
            "       ScreenPorch     PoolArea       MiscVal       MoSold       YrSold  \n",
            "count  1460.000000  1460.000000   1460.000000  1460.000000  1460.000000  \n",
            "mean     15.060959     2.758904     43.489041     6.321918  2007.815753  \n",
            "std      55.757415    40.177307    496.123024     2.703626     1.328095  \n",
            "min       0.000000     0.000000      0.000000     1.000000  2006.000000  \n",
            "25%       0.000000     0.000000      0.000000     5.000000  2007.000000  \n",
            "50%       0.000000     0.000000      0.000000     6.000000  2008.000000  \n",
            "75%       0.000000     0.000000      0.000000     8.000000  2009.000000  \n",
            "max     480.000000   738.000000  15500.000000    12.000000  2010.000000  \n",
            "\n",
            "[8 rows x 38 columns]\n"
          ]
        }
      ],
      "source": [
        "# 要約統計量を表示\n",
        "print(dataset.describe())\n"
      ]
    },
    {
      "cell_type": "markdown",
      "metadata": {
        "id": "ELUkK-KD0Ltr"
      },
      "source": [
        "## 4. 基本的なデータの操作"
      ]
    },
    {
      "cell_type": "markdown",
      "metadata": {
        "id": "TzclIU3d0Lts"
      },
      "source": [
        "データの抽出・列の分割について学びます。"
      ]
    },
    {
      "cell_type": "markdown",
      "metadata": {
        "id": "Mj8Ld4oY0Lts"
      },
      "source": [
        "### インデックスを用いた行の指定"
      ]
    },
    {
      "cell_type": "code",
      "execution_count": 6,
      "metadata": {
        "id": "cexN3ylq0Lts"
      },
      "outputs": [
        {
          "data": {
            "text/html": [
              "<div>\n",
              "<style scoped>\n",
              "    .dataframe tbody tr th:only-of-type {\n",
              "        vertical-align: middle;\n",
              "    }\n",
              "\n",
              "    .dataframe tbody tr th {\n",
              "        vertical-align: top;\n",
              "    }\n",
              "\n",
              "    .dataframe thead th {\n",
              "        text-align: right;\n",
              "    }\n",
              "</style>\n",
              "<table border=\"1\" class=\"dataframe\">\n",
              "  <thead>\n",
              "    <tr style=\"text-align: right;\">\n",
              "      <th></th>\n",
              "      <th>Order</th>\n",
              "      <th>area</th>\n",
              "      <th>price</th>\n",
              "      <th>MSSubClass</th>\n",
              "      <th>MSZoning</th>\n",
              "      <th>LotFrontage</th>\n",
              "      <th>LotArea</th>\n",
              "      <th>Street</th>\n",
              "      <th>Alley</th>\n",
              "      <th>LotShape</th>\n",
              "      <th>...</th>\n",
              "      <th>ScreenPorch</th>\n",
              "      <th>PoolArea</th>\n",
              "      <th>PoolQC</th>\n",
              "      <th>Fence</th>\n",
              "      <th>MiscFeature</th>\n",
              "      <th>MiscVal</th>\n",
              "      <th>MoSold</th>\n",
              "      <th>YrSold</th>\n",
              "      <th>SaleType</th>\n",
              "      <th>SaleCondition</th>\n",
              "    </tr>\n",
              "  </thead>\n",
              "  <tbody>\n",
              "    <tr>\n",
              "      <th>0</th>\n",
              "      <td>1</td>\n",
              "      <td>1710</td>\n",
              "      <td>208500</td>\n",
              "      <td>60</td>\n",
              "      <td>RL</td>\n",
              "      <td>65.0</td>\n",
              "      <td>8450</td>\n",
              "      <td>Pave</td>\n",
              "      <td>NaN</td>\n",
              "      <td>Reg</td>\n",
              "      <td>...</td>\n",
              "      <td>0</td>\n",
              "      <td>0</td>\n",
              "      <td>NaN</td>\n",
              "      <td>NaN</td>\n",
              "      <td>NaN</td>\n",
              "      <td>0</td>\n",
              "      <td>2</td>\n",
              "      <td>2008</td>\n",
              "      <td>WD</td>\n",
              "      <td>Normal</td>\n",
              "    </tr>\n",
              "    <tr>\n",
              "      <th>1</th>\n",
              "      <td>2</td>\n",
              "      <td>1262</td>\n",
              "      <td>181500</td>\n",
              "      <td>20</td>\n",
              "      <td>RL</td>\n",
              "      <td>80.0</td>\n",
              "      <td>9600</td>\n",
              "      <td>Pave</td>\n",
              "      <td>NaN</td>\n",
              "      <td>Reg</td>\n",
              "      <td>...</td>\n",
              "      <td>0</td>\n",
              "      <td>0</td>\n",
              "      <td>NaN</td>\n",
              "      <td>NaN</td>\n",
              "      <td>NaN</td>\n",
              "      <td>0</td>\n",
              "      <td>5</td>\n",
              "      <td>2007</td>\n",
              "      <td>WD</td>\n",
              "      <td>Normal</td>\n",
              "    </tr>\n",
              "    <tr>\n",
              "      <th>2</th>\n",
              "      <td>3</td>\n",
              "      <td>1786</td>\n",
              "      <td>223500</td>\n",
              "      <td>60</td>\n",
              "      <td>RL</td>\n",
              "      <td>68.0</td>\n",
              "      <td>11250</td>\n",
              "      <td>Pave</td>\n",
              "      <td>NaN</td>\n",
              "      <td>IR1</td>\n",
              "      <td>...</td>\n",
              "      <td>0</td>\n",
              "      <td>0</td>\n",
              "      <td>NaN</td>\n",
              "      <td>NaN</td>\n",
              "      <td>NaN</td>\n",
              "      <td>0</td>\n",
              "      <td>9</td>\n",
              "      <td>2008</td>\n",
              "      <td>WD</td>\n",
              "      <td>Normal</td>\n",
              "    </tr>\n",
              "    <tr>\n",
              "      <th>3</th>\n",
              "      <td>4</td>\n",
              "      <td>1717</td>\n",
              "      <td>140000</td>\n",
              "      <td>70</td>\n",
              "      <td>RL</td>\n",
              "      <td>60.0</td>\n",
              "      <td>9550</td>\n",
              "      <td>Pave</td>\n",
              "      <td>NaN</td>\n",
              "      <td>IR1</td>\n",
              "      <td>...</td>\n",
              "      <td>0</td>\n",
              "      <td>0</td>\n",
              "      <td>NaN</td>\n",
              "      <td>NaN</td>\n",
              "      <td>NaN</td>\n",
              "      <td>0</td>\n",
              "      <td>2</td>\n",
              "      <td>2006</td>\n",
              "      <td>WD</td>\n",
              "      <td>Abnorml</td>\n",
              "    </tr>\n",
              "    <tr>\n",
              "      <th>4</th>\n",
              "      <td>5</td>\n",
              "      <td>2198</td>\n",
              "      <td>250000</td>\n",
              "      <td>60</td>\n",
              "      <td>RL</td>\n",
              "      <td>84.0</td>\n",
              "      <td>14260</td>\n",
              "      <td>Pave</td>\n",
              "      <td>NaN</td>\n",
              "      <td>IR1</td>\n",
              "      <td>...</td>\n",
              "      <td>0</td>\n",
              "      <td>0</td>\n",
              "      <td>NaN</td>\n",
              "      <td>NaN</td>\n",
              "      <td>NaN</td>\n",
              "      <td>0</td>\n",
              "      <td>12</td>\n",
              "      <td>2008</td>\n",
              "      <td>WD</td>\n",
              "      <td>Normal</td>\n",
              "    </tr>\n",
              "    <tr>\n",
              "      <th>5</th>\n",
              "      <td>6</td>\n",
              "      <td>1362</td>\n",
              "      <td>143000</td>\n",
              "      <td>50</td>\n",
              "      <td>RL</td>\n",
              "      <td>85.0</td>\n",
              "      <td>14115</td>\n",
              "      <td>Pave</td>\n",
              "      <td>NaN</td>\n",
              "      <td>IR1</td>\n",
              "      <td>...</td>\n",
              "      <td>0</td>\n",
              "      <td>0</td>\n",
              "      <td>NaN</td>\n",
              "      <td>MnPrv</td>\n",
              "      <td>Shed</td>\n",
              "      <td>700</td>\n",
              "      <td>10</td>\n",
              "      <td>2009</td>\n",
              "      <td>WD</td>\n",
              "      <td>Normal</td>\n",
              "    </tr>\n",
              "    <tr>\n",
              "      <th>6</th>\n",
              "      <td>7</td>\n",
              "      <td>1694</td>\n",
              "      <td>307000</td>\n",
              "      <td>20</td>\n",
              "      <td>RL</td>\n",
              "      <td>75.0</td>\n",
              "      <td>10084</td>\n",
              "      <td>Pave</td>\n",
              "      <td>NaN</td>\n",
              "      <td>Reg</td>\n",
              "      <td>...</td>\n",
              "      <td>0</td>\n",
              "      <td>0</td>\n",
              "      <td>NaN</td>\n",
              "      <td>NaN</td>\n",
              "      <td>NaN</td>\n",
              "      <td>0</td>\n",
              "      <td>8</td>\n",
              "      <td>2007</td>\n",
              "      <td>WD</td>\n",
              "      <td>Normal</td>\n",
              "    </tr>\n",
              "    <tr>\n",
              "      <th>7</th>\n",
              "      <td>8</td>\n",
              "      <td>2090</td>\n",
              "      <td>200000</td>\n",
              "      <td>60</td>\n",
              "      <td>RL</td>\n",
              "      <td>NaN</td>\n",
              "      <td>10382</td>\n",
              "      <td>Pave</td>\n",
              "      <td>NaN</td>\n",
              "      <td>IR1</td>\n",
              "      <td>...</td>\n",
              "      <td>0</td>\n",
              "      <td>0</td>\n",
              "      <td>NaN</td>\n",
              "      <td>NaN</td>\n",
              "      <td>Shed</td>\n",
              "      <td>350</td>\n",
              "      <td>11</td>\n",
              "      <td>2009</td>\n",
              "      <td>WD</td>\n",
              "      <td>Normal</td>\n",
              "    </tr>\n",
              "    <tr>\n",
              "      <th>8</th>\n",
              "      <td>9</td>\n",
              "      <td>1774</td>\n",
              "      <td>129900</td>\n",
              "      <td>50</td>\n",
              "      <td>RM</td>\n",
              "      <td>51.0</td>\n",
              "      <td>6120</td>\n",
              "      <td>Pave</td>\n",
              "      <td>NaN</td>\n",
              "      <td>Reg</td>\n",
              "      <td>...</td>\n",
              "      <td>0</td>\n",
              "      <td>0</td>\n",
              "      <td>NaN</td>\n",
              "      <td>NaN</td>\n",
              "      <td>NaN</td>\n",
              "      <td>0</td>\n",
              "      <td>4</td>\n",
              "      <td>2008</td>\n",
              "      <td>WD</td>\n",
              "      <td>Abnorml</td>\n",
              "    </tr>\n",
              "    <tr>\n",
              "      <th>9</th>\n",
              "      <td>10</td>\n",
              "      <td>1077</td>\n",
              "      <td>118000</td>\n",
              "      <td>190</td>\n",
              "      <td>RL</td>\n",
              "      <td>50.0</td>\n",
              "      <td>7420</td>\n",
              "      <td>Pave</td>\n",
              "      <td>NaN</td>\n",
              "      <td>Reg</td>\n",
              "      <td>...</td>\n",
              "      <td>0</td>\n",
              "      <td>0</td>\n",
              "      <td>NaN</td>\n",
              "      <td>NaN</td>\n",
              "      <td>NaN</td>\n",
              "      <td>0</td>\n",
              "      <td>1</td>\n",
              "      <td>2008</td>\n",
              "      <td>WD</td>\n",
              "      <td>Normal</td>\n",
              "    </tr>\n",
              "  </tbody>\n",
              "</table>\n",
              "<p>10 rows × 81 columns</p>\n",
              "</div>"
            ],
            "text/plain": [
              "   Order  area   price  MSSubClass MSZoning  LotFrontage  LotArea Street  \\\n",
              "0      1  1710  208500          60       RL         65.0     8450   Pave   \n",
              "1      2  1262  181500          20       RL         80.0     9600   Pave   \n",
              "2      3  1786  223500          60       RL         68.0    11250   Pave   \n",
              "3      4  1717  140000          70       RL         60.0     9550   Pave   \n",
              "4      5  2198  250000          60       RL         84.0    14260   Pave   \n",
              "5      6  1362  143000          50       RL         85.0    14115   Pave   \n",
              "6      7  1694  307000          20       RL         75.0    10084   Pave   \n",
              "7      8  2090  200000          60       RL          NaN    10382   Pave   \n",
              "8      9  1774  129900          50       RM         51.0     6120   Pave   \n",
              "9     10  1077  118000         190       RL         50.0     7420   Pave   \n",
              "\n",
              "  Alley LotShape  ... ScreenPorch PoolArea PoolQC  Fence MiscFeature MiscVal  \\\n",
              "0   NaN      Reg  ...           0        0    NaN    NaN         NaN       0   \n",
              "1   NaN      Reg  ...           0        0    NaN    NaN         NaN       0   \n",
              "2   NaN      IR1  ...           0        0    NaN    NaN         NaN       0   \n",
              "3   NaN      IR1  ...           0        0    NaN    NaN         NaN       0   \n",
              "4   NaN      IR1  ...           0        0    NaN    NaN         NaN       0   \n",
              "5   NaN      IR1  ...           0        0    NaN  MnPrv        Shed     700   \n",
              "6   NaN      Reg  ...           0        0    NaN    NaN         NaN       0   \n",
              "7   NaN      IR1  ...           0        0    NaN    NaN        Shed     350   \n",
              "8   NaN      Reg  ...           0        0    NaN    NaN         NaN       0   \n",
              "9   NaN      Reg  ...           0        0    NaN    NaN         NaN       0   \n",
              "\n",
              "  MoSold YrSold SaleType  SaleCondition  \n",
              "0      2   2008       WD         Normal  \n",
              "1      5   2007       WD         Normal  \n",
              "2      9   2008       WD         Normal  \n",
              "3      2   2006       WD        Abnorml  \n",
              "4     12   2008       WD         Normal  \n",
              "5     10   2009       WD         Normal  \n",
              "6      8   2007       WD         Normal  \n",
              "7     11   2009       WD         Normal  \n",
              "8      4   2008       WD        Abnorml  \n",
              "9      1   2008       WD         Normal  \n",
              "\n",
              "[10 rows x 81 columns]"
            ]
          },
          "execution_count": 6,
          "metadata": {},
          "output_type": "execute_result"
        }
      ],
      "source": [
        "# インデックス番号0から10行分抽出\n",
        "dataset.iloc[0:10]"
      ]
    },
    {
      "cell_type": "code",
      "execution_count": 7,
      "metadata": {
        "id": "F3Jjzbto0Lts"
      },
      "outputs": [
        {
          "data": {
            "text/html": [
              "<div>\n",
              "<style scoped>\n",
              "    .dataframe tbody tr th:only-of-type {\n",
              "        vertical-align: middle;\n",
              "    }\n",
              "\n",
              "    .dataframe tbody tr th {\n",
              "        vertical-align: top;\n",
              "    }\n",
              "\n",
              "    .dataframe thead th {\n",
              "        text-align: right;\n",
              "    }\n",
              "</style>\n",
              "<table border=\"1\" class=\"dataframe\">\n",
              "  <thead>\n",
              "    <tr style=\"text-align: right;\">\n",
              "      <th></th>\n",
              "      <th>price</th>\n",
              "      <th>LotArea</th>\n",
              "    </tr>\n",
              "  </thead>\n",
              "  <tbody>\n",
              "    <tr>\n",
              "      <th>0</th>\n",
              "      <td>208500</td>\n",
              "      <td>8450</td>\n",
              "    </tr>\n",
              "    <tr>\n",
              "      <th>1</th>\n",
              "      <td>181500</td>\n",
              "      <td>9600</td>\n",
              "    </tr>\n",
              "    <tr>\n",
              "      <th>2</th>\n",
              "      <td>223500</td>\n",
              "      <td>11250</td>\n",
              "    </tr>\n",
              "    <tr>\n",
              "      <th>3</th>\n",
              "      <td>140000</td>\n",
              "      <td>9550</td>\n",
              "    </tr>\n",
              "    <tr>\n",
              "      <th>4</th>\n",
              "      <td>250000</td>\n",
              "      <td>14260</td>\n",
              "    </tr>\n",
              "    <tr>\n",
              "      <th>5</th>\n",
              "      <td>143000</td>\n",
              "      <td>14115</td>\n",
              "    </tr>\n",
              "    <tr>\n",
              "      <th>6</th>\n",
              "      <td>307000</td>\n",
              "      <td>10084</td>\n",
              "    </tr>\n",
              "    <tr>\n",
              "      <th>7</th>\n",
              "      <td>200000</td>\n",
              "      <td>10382</td>\n",
              "    </tr>\n",
              "    <tr>\n",
              "      <th>8</th>\n",
              "      <td>129900</td>\n",
              "      <td>6120</td>\n",
              "    </tr>\n",
              "    <tr>\n",
              "      <th>9</th>\n",
              "      <td>118000</td>\n",
              "      <td>7420</td>\n",
              "    </tr>\n",
              "  </tbody>\n",
              "</table>\n",
              "</div>"
            ],
            "text/plain": [
              "    price  LotArea\n",
              "0  208500     8450\n",
              "1  181500     9600\n",
              "2  223500    11250\n",
              "3  140000     9550\n",
              "4  250000    14260\n",
              "5  143000    14115\n",
              "6  307000    10084\n",
              "7  200000    10382\n",
              "8  129900     6120\n",
              "9  118000     7420"
            ]
          },
          "execution_count": 7,
          "metadata": {},
          "output_type": "execute_result"
        }
      ],
      "source": [
        "# 最初の10行だけ抽出し、「price」と「LotArea」の列を表示\n",
        "dataset.loc[0:9, [\"price\", \"LotArea\"]]"
      ]
    },
    {
      "cell_type": "markdown",
      "metadata": {
        "id": "wrlGmCVk0Ltt"
      },
      "source": [
        "### カラム間の演算\n",
        "\n",
        "PandasのDataFrameでは、列同士の四則演算、ならびに新しい列の追加ができます。\n",
        "\n",
        "たとえば、`df` というDataFrameの変数があり、中に `a`,`b` というカラムが存在するとき、`df['c'] = df['a'] + df['b']` と記述することで、`a`列と`b`列の加算結果を `c` という新しい列として `df` に追加してくれます。"
      ]
    },
    {
      "cell_type": "code",
      "execution_count": 8,
      "metadata": {
        "id": "ckJCB8t_0Ltt"
      },
      "outputs": [],
      "source": [
        "# 「X1stFlrSF」と「X2ndFlrSF」を合計した「XFlrSF_total」を新たな列としてdatasetに加える\n",
        "dataset[\"XFlrSF_total\"] = dataset[\"X1stFlrSF\"] + dataset[\"X2ndFlrSF\"]"
      ]
    },
    {
      "cell_type": "code",
      "execution_count": 9,
      "metadata": {
        "id": "r-JXiZ020Ltt"
      },
      "outputs": [
        {
          "name": "stdout",
          "output_type": "stream",
          "text": [
            "   X1stFlrSF  X2ndFlrSF  XFlrSF_total\n",
            "0        856        854          1710\n",
            "1       1262          0          1262\n",
            "2        920        866          1786\n",
            "3        961        756          1717\n",
            "4       1145       1053          2198\n"
          ]
        }
      ],
      "source": [
        "# datasetからloc関数を使用して「X1stFlrSF」と「X2ndFlrSF」、「XFlrSF_total」を先頭から5行分表示し、正しく追加されていることを確認する\n",
        "print(dataset.loc[0:4, [\"X1stFlrSF\", \"X2ndFlrSF\", \"XFlrSF_total\"]])"
      ]
    },
    {
      "cell_type": "markdown",
      "metadata": {
        "id": "xmrC8Tm60Ltt"
      },
      "source": [
        " ### ダミー変数の作成\n",
        "\n",
        "列 `SaleType` は `WD`, `New`, `COD` などで構成されたカテゴリーデータです。 `get_dummies()` 関数を使用してダミー変数に変換しましょう。\n",
        "\n",
        "参考：https://pandas.pydata.org/docs/reference/api/pandas.get_dummies.html"
      ]
    },
    {
      "cell_type": "code",
      "execution_count": 10,
      "metadata": {
        "id": "bP6R1eaH0Ltt"
      },
      "outputs": [],
      "source": [
        "# 列'SaleType'をダミー変数に展開したものを変数 dataset に上書きします\n",
        "dataset = pd.get_dummies(dataset, columns=[\"SaleType\"])"
      ]
    },
    {
      "cell_type": "code",
      "execution_count": 11,
      "metadata": {
        "id": "3thUzxti0Ltu"
      },
      "outputs": [
        {
          "name": "stdout",
          "output_type": "stream",
          "text": [
            "   Order  area   price  MSSubClass MSZoning  LotFrontage  LotArea Street  \\\n",
            "0      1  1710  208500          60       RL         65.0     8450   Pave   \n",
            "1      2  1262  181500          20       RL         80.0     9600   Pave   \n",
            "2      3  1786  223500          60       RL         68.0    11250   Pave   \n",
            "3      4  1717  140000          70       RL         60.0     9550   Pave   \n",
            "4      5  2198  250000          60       RL         84.0    14260   Pave   \n",
            "\n",
            "  Alley LotShape  ... XFlrSF_total SaleType_COD SaleType_CWD SaleType_Con  \\\n",
            "0   NaN      Reg  ...         1710        False        False        False   \n",
            "1   NaN      Reg  ...         1262        False        False        False   \n",
            "2   NaN      IR1  ...         1786        False        False        False   \n",
            "3   NaN      IR1  ...         1717        False        False        False   \n",
            "4   NaN      IR1  ...         2198        False        False        False   \n",
            "\n",
            "  SaleType_ConLD SaleType_ConLI SaleType_ConLw SaleType_New SaleType_Oth  \\\n",
            "0          False          False          False        False        False   \n",
            "1          False          False          False        False        False   \n",
            "2          False          False          False        False        False   \n",
            "3          False          False          False        False        False   \n",
            "4          False          False          False        False        False   \n",
            "\n",
            "   SaleType_WD  \n",
            "0         True  \n",
            "1         True  \n",
            "2         True  \n",
            "3         True  \n",
            "4         True  \n",
            "\n",
            "[5 rows x 90 columns]\n"
          ]
        }
      ],
      "source": [
        "# ダミー変数が作成されていることを確認します　(datasetの最初の5行だけ出力)\n",
        "print(dataset.head())"
      ]
    },
    {
      "cell_type": "markdown",
      "metadata": {
        "id": "D0YJC3yO0Ltu"
      },
      "source": [
        "### フィルタリング\n",
        "\n",
        "DataFrameの `query()` を使いフィルタリングを行ないましょう。\n",
        "\n",
        "参考：https://pandas.pydata.org/docs/reference/api/pandas.DataFrame.query.html"
      ]
    },
    {
      "cell_type": "code",
      "execution_count": 12,
      "metadata": {
        "id": "dGP7i5xG0Ltu"
      },
      "outputs": [
        {
          "name": "stdout",
          "output_type": "stream",
          "text": [
            "    Order  area   price  MSSubClass MSZoning  LotFrontage  LotArea Street  \\\n",
            "0       1  1710  208500          60       RL         65.0     8450   Pave   \n",
            "2       3  1786  223500          60       RL         68.0    11250   Pave   \n",
            "4       5  2198  250000          60       RL         84.0    14260   Pave   \n",
            "6       7  1694  307000          20       RL         75.0    10084   Pave   \n",
            "11     12  2324  345000          60       RL         85.0    11924   Pave   \n",
            "\n",
            "   Alley LotShape  ... XFlrSF_total SaleType_COD SaleType_CWD SaleType_Con  \\\n",
            "0    NaN      Reg  ...         1710        False        False        False   \n",
            "2    NaN      IR1  ...         1786        False        False        False   \n",
            "4    NaN      IR1  ...         2198        False        False        False   \n",
            "6    NaN      Reg  ...         1694        False        False        False   \n",
            "11   NaN      IR1  ...         2324        False        False        False   \n",
            "\n",
            "   SaleType_ConLD SaleType_ConLI SaleType_ConLw SaleType_New SaleType_Oth  \\\n",
            "0           False          False          False        False        False   \n",
            "2           False          False          False        False        False   \n",
            "4           False          False          False        False        False   \n",
            "6           False          False          False        False        False   \n",
            "11          False          False          False         True        False   \n",
            "\n",
            "    SaleType_WD  \n",
            "0          True  \n",
            "2          True  \n",
            "4          True  \n",
            "6          True  \n",
            "11        False  \n",
            "\n",
            "[5 rows x 90 columns]\n"
          ]
        }
      ],
      "source": [
        "# 'YearBuilt'が2000以降の物件のみを抽出し、最初の5件のみ表示\n",
        "filtered = dataset.query(\"YearBuilt >= 2000\")\n",
        "print(filtered.head())"
      ]
    },
    {
      "cell_type": "markdown",
      "metadata": {
        "id": "nRZxQHro0Ltu"
      },
      "source": [
        "`'LotArea >= 15000 and MSSubClass >= 50'` のように複数の条件を指定できます。"
      ]
    },
    {
      "cell_type": "code",
      "execution_count": 13,
      "metadata": {
        "id": "yKLtolbG0Ltv"
      },
      "outputs": [
        {
          "name": "stdout",
          "output_type": "stream",
          "text": [
            "    Order  area   price  MSSubClass MSZoning  LotFrontage  LotArea Street  \\\n",
            "4       5  2198  250000          60       RL         84.0    14260   Pave   \n",
            "11     12  2324  345000          60       RL         85.0    11924   Pave   \n",
            "13     14  1494  279500          20       RL         91.0    10652   Pave   \n",
            "20     21  2376  325300          60       RL        101.0    14215   Pave   \n",
            "25     26  1600  256300          20       RL        110.0    14230   Pave   \n",
            "\n",
            "   Alley LotShape  ... XFlrSF_total SaleType_COD SaleType_CWD SaleType_Con  \\\n",
            "4    NaN      IR1  ...         2198        False        False        False   \n",
            "11   NaN      IR1  ...         2324        False        False        False   \n",
            "13   NaN      IR1  ...         1494        False        False        False   \n",
            "20   NaN      IR1  ...         2376        False        False        False   \n",
            "25   NaN      Reg  ...         1600        False        False        False   \n",
            "\n",
            "   SaleType_ConLD SaleType_ConLI SaleType_ConLw SaleType_New SaleType_Oth  \\\n",
            "4           False          False          False        False        False   \n",
            "11          False          False          False         True        False   \n",
            "13          False          False          False         True        False   \n",
            "20          False          False          False         True        False   \n",
            "25          False          False          False        False        False   \n",
            "\n",
            "    SaleType_WD  \n",
            "4          True  \n",
            "11        False  \n",
            "13        False  \n",
            "20        False  \n",
            "25         True  \n",
            "\n",
            "[5 rows x 90 columns]\n"
          ]
        }
      ],
      "source": [
        "# 'YearBuilt'が2000以降、'GarageCars'が3以上の物件を抽出し、最初の5件のみ表示\n",
        "filtered = dataset.query(\"YearBuilt >= 2000 and GarageCars >= 3\")\n",
        "print(filtered.head())"
      ]
    },
    {
      "cell_type": "markdown",
      "metadata": {
        "id": "Lko2Z0IQ0Ltv"
      },
      "source": [
        "## 5. データの可視化"
      ]
    },
    {
      "cell_type": "markdown",
      "metadata": {
        "id": "D33klPt20Ltv"
      },
      "source": [
        "データを理解するには要約統計量や抽出したデータを確認するだけでは不充分であり、可視化が必要です。"
      ]
    },
    {
      "cell_type": "markdown",
      "metadata": {
        "id": "FMD7bHO70Ltv"
      },
      "source": [
        "### ヒストグラム\n",
        "\n",
        "連続変数の分布を確認する際に有効です。DataFrameの `hist()` が使えます。\n",
        "\n",
        "参考：https://pandas.pydata.org/docs/reference/api/pandas.DataFrame.hist.html"
      ]
    },
    {
      "cell_type": "code",
      "execution_count": 14,
      "metadata": {
        "id": "0AOSXsDe0Ltv"
      },
      "outputs": [
        {
          "data": {
            "text/plain": [
              "<Axes: >"
            ]
          },
          "execution_count": 14,
          "metadata": {},
          "output_type": "execute_result"
        },
        {
          "data": {
            "image/png": "[encoded data removed]",
            "text/plain": [
              "<Figure size 600x400 with 1 Axes>"
            ]
          },
          "metadata": {},
          "output_type": "display_data"
        }
      ],
      "source": [
        "# datasetの'price'をヒストグラムで表示（DataFrameのhist()を利用する）\n",
        "dataset[\"price\"].hist(bins=30, figsize=(6,4))"
      ]
    },
    {
      "cell_type": "markdown",
      "metadata": {
        "id": "PqMDIyFj0Ltw"
      },
      "source": [
        "### 散布図\n",
        "\n",
        "2つの変数の関係性を確認する際に有効です。DataFrameの `plot()` が使えます。\n",
        "\n",
        "参考：https://pandas.pydata.org/docs/reference/api/pandas.DataFrame.plot.html"
      ]
    },
    {
      "cell_type": "code",
      "execution_count": null,
      "metadata": {
        "id": "0R13auyN0Ltw"
      },
      "outputs": [],
      "source": [
        "# datasetの'LotArea'と'price'を散布図で表示（DataFrameのplot()を利用する）\n"
      ]
    },
    {
      "cell_type": "markdown",
      "metadata": {
        "id": "YN0EEEfi0Ltw"
      },
      "source": [
        "### 棒グラフ\n",
        "\n",
        "大小や増減を比較する際に有効です。DataFrameの `plot.bar()` が使えます。\n",
        "\n",
        "参考：https://pandas.pydata.org/docs/reference/api/pandas.DataFrame.plot.bar.html"
      ]
    },
    {
      "cell_type": "code",
      "execution_count": 15,
      "metadata": {
        "id": "xDKTlBgi0Ltw"
      },
      "outputs": [
        {
          "data": {
            "text/plain": [
              "<Axes: xlabel='LotArea', ylabel='price'>"
            ]
          },
          "execution_count": 15,
          "metadata": {},
          "output_type": "execute_result"
        },
        {
          "data": {
            "image/png": "[encoded data removed]",
            "text/plain": [
              "<Figure size 600x400 with 1 Axes>"
            ]
          },
          "metadata": {},
          "output_type": "display_data"
        }
      ],
      "source": [
        "#'price'のSaleConditionごとの平均を変数 price_by_condition に格納\n",
        "dataset.plot(kind='scatter', x='LotArea', y='price', figsize=(6,4))\n"
      ]
    },
    {
      "cell_type": "code",
      "execution_count": 18,
      "metadata": {
        "id": "3FZXWIZ96vDi"
      },
      "outputs": [
        {
          "data": {
            "text/plain": [
              "<Axes: xlabel='Condition1'>"
            ]
          },
          "execution_count": 18,
          "metadata": {},
          "output_type": "execute_result"
        },
        {
          "data": {
            "image/png": "[encoded data removed]",
            "text/plain": [
              "<Figure size 600x400 with 1 Axes>"
            ]
          },
          "metadata": {},
          "output_type": "display_data"
        }
      ],
      "source": [
        "# price_by_conditionが持つ、棒グラフを表示する命令を実行\n",
        "price_by_condition = dataset.groupby(\"Condition1\")[\"price\"].mean()\n",
        "price_by_condition.plot(kind='bar', figsize=(6,4))"
      ]
    },
    {
      "cell_type": "markdown",
      "metadata": {
        "id": "nhYD3-q60Ltx"
      },
      "source": [
        "### 箱ヒゲ図 (Boxplot)\n",
        "\n",
        "複数の変数の分布を比較する際に有効です（棒グラフでは平均の比較はできますが、分布全体の比較はできません)。\n",
        "\n",
        "DataFrameの `boxplot()` が使えます。\n",
        "\n",
        "参考：https://pandas.pydata.org/docs/reference/api/pandas.DataFrame.boxplot.html"
      ]
    },
    {
      "cell_type": "code",
      "execution_count": 19,
      "metadata": {
        "id": "hzyiHBaq0Ltx"
      },
      "outputs": [
        {
          "data": {
            "text/plain": [
              "<Axes: title={'center': 'price'}, xlabel='SaleCondition'>"
            ]
          },
          "execution_count": 19,
          "metadata": {},
          "output_type": "execute_result"
        },
        {
          "data": {
            "image/png": "[encoded data removed]",
            "text/plain": [
              "<Figure size 800x500 with 1 Axes>"
            ]
          },
          "metadata": {},
          "output_type": "display_data"
        }
      ],
      "source": [
        "# datasetの'SaleCondition'ごとに'price'をDataFrameのboxplotで表示\n",
        "dataset.boxplot(column='price', by='SaleCondition', figsize=(8,5))\n",
        "\n"
      ]
    },
    {
      "cell_type": "markdown",
      "metadata": {
        "id": "L1M--5JJ0Ltx"
      },
      "source": [
        "## 6. 欠損値の確認\n",
        "\n",
        "ある列が欠損値を持っているかどうかは Pandas の `isnull()` でわかります。特定の列の欠損値を知りたい場合は `pd.isnull(dataset['LotFrontage'])` のように記述します。また、`.sum()` をつなげることで、その列で欠損値を持つ行数がわかります。\n",
        "\n",
        "参考：https://pandas.pydata.org/docs/reference/api/pandas.isnull.html"
      ]
    },
    {
      "cell_type": "code",
      "execution_count": 20,
      "metadata": {
        "id": "STACo5MN0Ltx"
      },
      "outputs": [
        {
          "name": "stdout",
          "output_type": "stream",
          "text": [
            "Order             0\n",
            "area              0\n",
            "price             0\n",
            "MSSubClass        0\n",
            "MSZoning          0\n",
            "                 ..\n",
            "SaleType_ConLI    0\n",
            "SaleType_ConLw    0\n",
            "SaleType_New      0\n",
            "SaleType_Oth      0\n",
            "SaleType_WD       0\n",
            "Length: 90, dtype: int64\n"
          ]
        }
      ],
      "source": [
        "# すべての列がそれぞれ、欠損値が何行あるかを取得\n",
        "print(dataset.isnull().sum())\n",
        "\n"
      ]
    }
  ],
  "metadata": {
    "colab": {
      "provenance": []
    },
    "kernelspec": {
      "display_name": ".venv",
      "language": "python",
      "name": "python3"
    },
    "language_info": {
      "codemirror_mode": {
        "name": "ipython",
        "version": 3
      },
      "file_extension": ".py",
      "mimetype": "text/x-python",
      "name": "python",
      "nbconvert_exporter": "python",
      "pygments_lexer": "ipython3",
      "version": "3.12.10"
    }
  },
  "nbformat": 4,
  "nbformat_minor": 0
}
